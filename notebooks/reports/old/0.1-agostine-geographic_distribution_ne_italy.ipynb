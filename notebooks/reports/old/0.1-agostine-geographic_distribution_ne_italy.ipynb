{
 "cells": [
  {
   "cell_type": "markdown",
   "metadata": {},
   "source": [
    "# Geospatial distribution of total cases\n",
    "Total number of cases grouped by province in the latest available day, only for provinces in the north-eastern part of Italy"
   ]
  },
  {
   "cell_type": "code",
   "execution_count": 1,
   "metadata": {},
   "outputs": [
    {
     "ename": "ModuleNotFoundError",
     "evalue": "No module named 'geopandas'",
     "output_type": "error",
     "traceback": [
      "\u001b[1;31m---------------------------------------------------------------------------\u001b[0m",
      "\u001b[1;31mModuleNotFoundError\u001b[0m                       Traceback (most recent call last)",
      "\u001b[1;32m<ipython-input-1-9b638c77a449>\u001b[0m in \u001b[0;36m<module>\u001b[1;34m\u001b[0m\n\u001b[1;32m----> 1\u001b[1;33m \u001b[1;32mimport\u001b[0m \u001b[0mgeopandas\u001b[0m \u001b[1;32mas\u001b[0m \u001b[0mgpd\u001b[0m\u001b[1;33m\u001b[0m\u001b[1;33m\u001b[0m\u001b[0m\n\u001b[0m\u001b[0;32m      2\u001b[0m \u001b[1;32mimport\u001b[0m \u001b[0mmatplotlib\u001b[0m\u001b[1;33m.\u001b[0m\u001b[0mpyplot\u001b[0m \u001b[1;32mas\u001b[0m \u001b[0mplt\u001b[0m\u001b[1;33m\u001b[0m\u001b[1;33m\u001b[0m\u001b[0m\n\u001b[0;32m      3\u001b[0m \u001b[1;32mfrom\u001b[0m \u001b[0mpyprojroot\u001b[0m \u001b[1;32mimport\u001b[0m \u001b[0mhere\u001b[0m\u001b[1;33m\u001b[0m\u001b[1;33m\u001b[0m\u001b[0m\n\u001b[0;32m      4\u001b[0m \u001b[1;32mfrom\u001b[0m \u001b[0msrc\u001b[0m\u001b[1;33m.\u001b[0m\u001b[0mdata\u001b[0m\u001b[1;33m.\u001b[0m\u001b[0mread_dataset\u001b[0m \u001b[1;32mimport\u001b[0m \u001b[0mget_processed_dataset\u001b[0m\u001b[1;33m\u001b[0m\u001b[1;33m\u001b[0m\u001b[0m\n\u001b[0;32m      5\u001b[0m \u001b[1;32mfrom\u001b[0m \u001b[0msrc\u001b[0m\u001b[1;33m.\u001b[0m\u001b[0mvisualization\u001b[0m \u001b[1;32mimport\u001b[0m \u001b[0mvisualize\u001b[0m\u001b[1;33m\u001b[0m\u001b[1;33m\u001b[0m\u001b[0m\n",
      "\u001b[1;31mModuleNotFoundError\u001b[0m: No module named 'geopandas'"
     ]
    }
   ],
   "source": [
    "import geopandas as gpd\n",
    "import matplotlib.pyplot as plt\n",
    "from pyprojroot import here\n",
    "from src.data.read_dataset import get_processed_dataset\n",
    "from src.visualization import visualize\n",
    "\n",
    "prov_df = get_processed_dataset('dpc_province')\n",
    "italy = gpd.read_file('../../data/raw/prov2019.geojson')"
   ]
  },
  {
   "cell_type": "code",
   "execution_count": null,
   "metadata": {},
   "outputs": [],
   "source": [
    "def label_coords(coords):\n",
    "    c1, c2 = coords\n",
    "    return (c1, c2*0.9985)\n",
    "\n",
    "def draw_geospatial_distribution(date, regions=[5, 6], save_to_file=None):\n",
    "    fig, ax = plt.subplots(1, figsize=(8, 8))\n",
    "    vmax = max(prov_df[prov_df.codice_regione.isin(regions)].totale_casi)\n",
    "    selected_day = prov_df[prov_df.data == date]\n",
    "    italy_merged = italy.merge(selected_day, how = 'left', left_on = 'COD_PROV', right_on = 'codice_provincia')\n",
    "    italy_merged = italy_merged[italy_merged.COD_REG.isin(regions)]\n",
    "    italy_merged.plot(ax=ax, column='totale_casi', cmap='OrRd', legend=True, legend_kwds={'label': \"Number of cases\", 'orientation': \"horizontal\"}, vmin=0, vmax=vmax)\n",
    "    italy_merged.apply(lambda x: ax.annotate(s=f'{x.SIGLA}\\n({int(x.totale_casi)})', xy=label_coords(x.geometry.centroid.coords[0]), ha='center'),axis=1);\n",
    "    ax.set_axis_off()\n",
    "    ax.text(0, 1.1, 'Total number of COVID-19 cases by province',\n",
    "            transform=ax.transAxes, size=16, weight=600, ha='left')\n",
    "    ax.text(1, 0, str(date)[:10], transform=ax.transAxes, ha='right', size=14,\n",
    "            color='#777777', bbox=dict(facecolor='white', alpha=0.8, edgecolor='white'))\n",
    "    if save_to_file:\n",
    "        fig.savefig(save_to_file, dpi=150)\n",
    "    \n"
   ]
  },
  {
   "cell_type": "code",
   "execution_count": null,
   "metadata": {},
   "outputs": [],
   "source": [
    "draw_geospatial_distribution(max(prov_df.data))"
   ]
  },
  {
   "cell_type": "code",
   "execution_count": null,
   "metadata": {},
   "outputs": [],
   "source": [
    "import imageio\n",
    "with imageio.get_writer(here(f'./reports/province_map/movie.gif'), mode='I', duration=1.0) as writer:\n",
    "    for date in sorted(prov_df.data.unique())[-10]:\n",
    "        fname = here(f'./reports/province_map/{str(date)[:10]}.png')\n",
    "        draw_geospatial_distribution(date, save_to_file=fname)\n",
    "        image = imageio.imread(fname)\n",
    "        writer.append_data(image)\n",
    "        \n",
    "    for _ in range(5):\n",
    "        writer.append_data(image)\n",
    "\n"
   ]
  },
  {
   "cell_type": "code",
   "execution_count": null,
   "metadata": {},
   "outputs": [],
   "source": [
    "prov_df.data.unique()"
   ]
  },
  {
   "cell_type": "code",
   "execution_count": null,
   "metadata": {},
   "outputs": [],
   "source": []
  }
 ],
 "metadata": {
  "kernelspec": {
   "display_name": "Python 3",
   "language": "python",
   "name": "python3"
  },
  "language_info": {
   "codemirror_mode": {
    "name": "ipython",
    "version": 3
   },
   "file_extension": ".py",
   "mimetype": "text/x-python",
   "name": "python",
   "nbconvert_exporter": "python",
   "pygments_lexer": "ipython3",
   "version": "3.7.7"
  }
 },
 "nbformat": 4,
 "nbformat_minor": 4
}
