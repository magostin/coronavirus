{
 "cells": [
  {
   "cell_type": "code",
   "execution_count": 1,
   "metadata": {},
   "outputs": [],
   "source": [
    "import altair as alt\n",
    "\n",
    "from src.data.read_dataset import get_processed_dataset\n",
    "from src.visualization import visualize"
   ]
  },
  {
   "cell_type": "code",
   "execution_count": 2,
   "metadata": {},
   "outputs": [],
   "source": [
    "df = get_processed_dataset('CSSE')"
   ]
  },
  {
   "cell_type": "markdown",
   "metadata": {},
   "source": [
    "## Number of confirmed cases in selected European countries and South Korea"
   ]
  },
  {
   "cell_type": "code",
   "execution_count": 6,
   "metadata": {},
   "outputs": [
    {
     "data": {
      "text/html": [
       "\n",
       "<div id=\"altair-viz-7909d3c2213d46dcbc2d30a273585074\"></div>\n",
       "<script type=\"text/javascript\">\n",
       "  (function(spec, embedOpt){\n",
       "    const outputDiv = document.getElementById(\"altair-viz-7909d3c2213d46dcbc2d30a273585074\");\n",
       "    const paths = {\n",
       "      \"vega\": \"https://cdn.jsdelivr.net/npm//vega@5?noext\",\n",
       "      \"vega-lib\": \"https://cdn.jsdelivr.net/npm//vega-lib?noext\",\n",
       "      \"vega-lite\": \"https://cdn.jsdelivr.net/npm//vega-lite@4.0.2?noext\",\n",
       "      \"vega-embed\": \"https://cdn.jsdelivr.net/npm//vega-embed@6?noext\",\n",
       "    };\n",
       "\n",
       "    function loadScript(lib) {\n",
       "      return new Promise(function(resolve, reject) {\n",
       "        var s = document.createElement('script');\n",
       "        s.src = paths[lib];\n",
       "        s.async = true;\n",
       "        s.onload = () => resolve(paths[lib]);\n",
       "        s.onerror = () => reject(`Error loading script: ${paths[lib]}`);\n",
       "        document.getElementsByTagName(\"head\")[0].appendChild(s);\n",
       "      });\n",
       "    }\n",
       "\n",
       "    function showError(err) {\n",
       "      outputDiv.innerHTML = `<div class=\"error\" style=\"color:red;\">${err}</div>`;\n",
       "      throw err;\n",
       "    }\n",
       "\n",
       "    function displayChart(vegaEmbed) {\n",
       "      vegaEmbed(outputDiv, spec, embedOpt)\n",
       "        .catch(err => showError(`Javascript Error: ${err.message}<br>This usually means there's a typo in your chart specification. See the javascript console for the full traceback.`));\n",
       "    }\n",
       "\n",
       "    if(typeof define === \"function\" && define.amd) {\n",
       "      requirejs.config({paths});\n",
       "      require([\"vega-embed\"], displayChart, err => showError(`Error loading script: ${err.message}`));\n",
       "    } else if (typeof vegaEmbed === \"function\") {\n",
       "      displayChart(vegaEmbed);\n",
       "    } else {\n",
       "      loadScript(\"vega\")\n",
       "        .then(() => loadScript(\"vega-lite\"))\n",
       "        .then(() => loadScript(\"vega-embed\"))\n",
       "        .catch(showError)\n",
       "        .then(() => displayChart(vegaEmbed));\n",
       "    }\n",
       "  })({\"width\": 800, \"height\": 600, \"config\": {\"line\": {\"strokeWidth\": 4}, \"style\": {\"bar\": {\"size\": 20}}, \"legend\": {\"symbolSize\": 100, \"titleFontSize\": 20, \"labelFontSize\": 20}, \"axis\": {\"titleFontSize\": 20, \"labelFontSize\": 20}}, \"data\": {\"name\": \"data-aa90936e0dd2be9b894c773defb5723e\"}, \"mark\": \"line\", \"encoding\": {\"color\": {\"type\": \"nominal\", \"field\": \"Country\"}, \"tooltip\": [{\"type\": \"nominal\", \"field\": \"Country\"}, {\"type\": \"temporal\", \"field\": \"Date\"}, {\"type\": \"quantitative\", \"field\": \"Confirmed\"}], \"x\": {\"type\": \"temporal\", \"axis\": {\"format\": \"%d.%m\", \"title\": \"Date\"}, \"field\": \"Date\"}, \"y\": {\"type\": \"quantitative\", \"field\": \"Confirmed\", \"scale\": {\"type\": \"log\"}}}, \"selection\": {\"selector003\": {\"type\": \"interval\", \"bind\": \"scales\", \"encodings\": [\"x\", \"y\"]}}, \"transform\": [{\"filter\": \"(datum.Confirmed > 20)\"}], \"$schema\": \"https://vega.github.io/schema/vega-lite/v4.0.2.json\", \"datasets\": {\"data-aa90936e0dd2be9b894c773defb5723e\": [{\"Date\": \"2020-02-21T00:00:00\", \"Country\": \"South Korea\", \"Province\": null, \"Confirmed\": 204, \"Deaths\": 2, \"Recovered\": 16}, {\"Date\": \"2020-02-21T00:00:00\", \"Country\": \"France\", \"Province\": null, \"Confirmed\": 12, \"Deaths\": 1, \"Recovered\": 4}, {\"Date\": \"2020-02-21T00:00:00\", \"Country\": \"Germany\", \"Province\": null, \"Confirmed\": 16, \"Deaths\": 0, \"Recovered\": 14}, {\"Date\": \"2020-02-21T00:00:00\", \"Country\": \"Italy\", \"Province\": null, \"Confirmed\": 20, \"Deaths\": 1, \"Recovered\": 0}, {\"Date\": \"2020-02-21T00:00:00\", \"Country\": \"Spain\", \"Province\": null, \"Confirmed\": 2, \"Deaths\": 0, \"Recovered\": 2}, {\"Date\": \"2020-02-21T00:00:00\", \"Country\": \"Switzerland\", \"Province\": null, \"Confirmed\": 0, \"Deaths\": 0, \"Recovered\": 0}, {\"Date\": \"2020-02-21T00:00:00\", \"Country\": \"Austria\", \"Province\": null, \"Confirmed\": 0, \"Deaths\": 0, \"Recovered\": 0}, {\"Date\": \"2020-02-22T00:00:00\", \"Country\": \"South Korea\", \"Province\": null, \"Confirmed\": 433, \"Deaths\": 2, \"Recovered\": 16}, {\"Date\": \"2020-02-22T00:00:00\", \"Country\": \"France\", \"Province\": null, \"Confirmed\": 12, \"Deaths\": 1, \"Recovered\": 4}, {\"Date\": \"2020-02-22T00:00:00\", \"Country\": \"Germany\", \"Province\": null, \"Confirmed\": 16, \"Deaths\": 0, \"Recovered\": 14}, {\"Date\": \"2020-02-22T00:00:00\", \"Country\": \"Italy\", \"Province\": null, \"Confirmed\": 62, \"Deaths\": 2, \"Recovered\": 1}, {\"Date\": \"2020-02-22T00:00:00\", \"Country\": \"Spain\", \"Province\": null, \"Confirmed\": 2, \"Deaths\": 0, \"Recovered\": 2}, {\"Date\": \"2020-02-22T00:00:00\", \"Country\": \"Switzerland\", \"Province\": null, \"Confirmed\": 0, \"Deaths\": 0, \"Recovered\": 0}, {\"Date\": \"2020-02-22T00:00:00\", \"Country\": \"Austria\", \"Province\": null, \"Confirmed\": 0, \"Deaths\": 0, \"Recovered\": 0}, {\"Date\": \"2020-02-23T00:00:00\", \"Country\": \"South Korea\", \"Province\": null, \"Confirmed\": 602, \"Deaths\": 6, \"Recovered\": 18}, {\"Date\": \"2020-02-23T00:00:00\", \"Country\": \"France\", \"Province\": null, \"Confirmed\": 12, \"Deaths\": 1, \"Recovered\": 4}, {\"Date\": \"2020-02-23T00:00:00\", \"Country\": \"Germany\", \"Province\": null, \"Confirmed\": 16, \"Deaths\": 0, \"Recovered\": 14}, {\"Date\": \"2020-02-23T00:00:00\", \"Country\": \"Italy\", \"Province\": null, \"Confirmed\": 155, \"Deaths\": 3, \"Recovered\": 2}, {\"Date\": \"2020-02-23T00:00:00\", \"Country\": \"Spain\", \"Province\": null, \"Confirmed\": 2, \"Deaths\": 0, \"Recovered\": 2}, {\"Date\": \"2020-02-23T00:00:00\", \"Country\": \"Switzerland\", \"Province\": null, \"Confirmed\": 0, \"Deaths\": 0, \"Recovered\": 0}, {\"Date\": \"2020-02-23T00:00:00\", \"Country\": \"Austria\", \"Province\": null, \"Confirmed\": 0, \"Deaths\": 0, \"Recovered\": 0}, {\"Date\": \"2020-02-24T00:00:00\", \"Country\": \"South Korea\", \"Province\": null, \"Confirmed\": 833, \"Deaths\": 8, \"Recovered\": 18}, {\"Date\": \"2020-02-24T00:00:00\", \"Country\": \"France\", \"Province\": null, \"Confirmed\": 12, \"Deaths\": 1, \"Recovered\": 4}, {\"Date\": \"2020-02-24T00:00:00\", \"Country\": \"Germany\", \"Province\": null, \"Confirmed\": 16, \"Deaths\": 0, \"Recovered\": 14}, {\"Date\": \"2020-02-24T00:00:00\", \"Country\": \"Italy\", \"Province\": null, \"Confirmed\": 229, \"Deaths\": 7, \"Recovered\": 1}, {\"Date\": \"2020-02-24T00:00:00\", \"Country\": \"Spain\", \"Province\": null, \"Confirmed\": 2, \"Deaths\": 0, \"Recovered\": 2}, {\"Date\": \"2020-02-24T00:00:00\", \"Country\": \"Switzerland\", \"Province\": null, \"Confirmed\": 0, \"Deaths\": 0, \"Recovered\": 0}, {\"Date\": \"2020-02-24T00:00:00\", \"Country\": \"Austria\", \"Province\": null, \"Confirmed\": 0, \"Deaths\": 0, \"Recovered\": 0}, {\"Date\": \"2020-02-25T00:00:00\", \"Country\": \"South Korea\", \"Province\": null, \"Confirmed\": 977, \"Deaths\": 10, \"Recovered\": 22}, {\"Date\": \"2020-02-25T00:00:00\", \"Country\": \"France\", \"Province\": null, \"Confirmed\": 14, \"Deaths\": 1, \"Recovered\": 11}, {\"Date\": \"2020-02-25T00:00:00\", \"Country\": \"Germany\", \"Province\": null, \"Confirmed\": 17, \"Deaths\": 0, \"Recovered\": 14}, {\"Date\": \"2020-02-25T00:00:00\", \"Country\": \"Italy\", \"Province\": null, \"Confirmed\": 322, \"Deaths\": 10, \"Recovered\": 1}, {\"Date\": \"2020-02-25T00:00:00\", \"Country\": \"Spain\", \"Province\": null, \"Confirmed\": 6, \"Deaths\": 0, \"Recovered\": 2}, {\"Date\": \"2020-02-25T00:00:00\", \"Country\": \"Switzerland\", \"Province\": null, \"Confirmed\": 1, \"Deaths\": 0, \"Recovered\": 0}, {\"Date\": \"2020-02-25T00:00:00\", \"Country\": \"Austria\", \"Province\": null, \"Confirmed\": 2, \"Deaths\": 0, \"Recovered\": 0}, {\"Date\": \"2020-02-26T00:00:00\", \"Country\": \"South Korea\", \"Province\": null, \"Confirmed\": 1261, \"Deaths\": 12, \"Recovered\": 22}, {\"Date\": \"2020-02-26T00:00:00\", \"Country\": \"France\", \"Province\": null, \"Confirmed\": 18, \"Deaths\": 2, \"Recovered\": 11}, {\"Date\": \"2020-02-26T00:00:00\", \"Country\": \"Germany\", \"Province\": null, \"Confirmed\": 27, \"Deaths\": 0, \"Recovered\": 15}, {\"Date\": \"2020-02-26T00:00:00\", \"Country\": \"Italy\", \"Province\": null, \"Confirmed\": 453, \"Deaths\": 12, \"Recovered\": 3}, {\"Date\": \"2020-02-26T00:00:00\", \"Country\": \"Spain\", \"Province\": null, \"Confirmed\": 13, \"Deaths\": 0, \"Recovered\": 2}, {\"Date\": \"2020-02-26T00:00:00\", \"Country\": \"Switzerland\", \"Province\": null, \"Confirmed\": 1, \"Deaths\": 0, \"Recovered\": 0}, {\"Date\": \"2020-02-26T00:00:00\", \"Country\": \"Austria\", \"Province\": null, \"Confirmed\": 2, \"Deaths\": 0, \"Recovered\": 0}, {\"Date\": \"2020-02-27T00:00:00\", \"Country\": \"South Korea\", \"Province\": null, \"Confirmed\": 1766, \"Deaths\": 13, \"Recovered\": 22}, {\"Date\": \"2020-02-27T00:00:00\", \"Country\": \"France\", \"Province\": null, \"Confirmed\": 38, \"Deaths\": 2, \"Recovered\": 11}, {\"Date\": \"2020-02-27T00:00:00\", \"Country\": \"Germany\", \"Province\": null, \"Confirmed\": 46, \"Deaths\": 0, \"Recovered\": 16}, {\"Date\": \"2020-02-27T00:00:00\", \"Country\": \"Italy\", \"Province\": null, \"Confirmed\": 655, \"Deaths\": 17, \"Recovered\": 45}, {\"Date\": \"2020-02-27T00:00:00\", \"Country\": \"Spain\", \"Province\": null, \"Confirmed\": 15, \"Deaths\": 0, \"Recovered\": 2}, {\"Date\": \"2020-02-27T00:00:00\", \"Country\": \"Switzerland\", \"Province\": null, \"Confirmed\": 8, \"Deaths\": 0, \"Recovered\": 0}, {\"Date\": \"2020-02-27T00:00:00\", \"Country\": \"Austria\", \"Province\": null, \"Confirmed\": 3, \"Deaths\": 0, \"Recovered\": 0}, {\"Date\": \"2020-02-28T00:00:00\", \"Country\": \"South Korea\", \"Province\": null, \"Confirmed\": 2337, \"Deaths\": 13, \"Recovered\": 22}, {\"Date\": \"2020-02-28T00:00:00\", \"Country\": \"France\", \"Province\": null, \"Confirmed\": 57, \"Deaths\": 2, \"Recovered\": 11}, {\"Date\": \"2020-02-28T00:00:00\", \"Country\": \"Germany\", \"Province\": null, \"Confirmed\": 48, \"Deaths\": 0, \"Recovered\": 16}, {\"Date\": \"2020-02-28T00:00:00\", \"Country\": \"Italy\", \"Province\": null, \"Confirmed\": 888, \"Deaths\": 21, \"Recovered\": 46}, {\"Date\": \"2020-02-28T00:00:00\", \"Country\": \"Spain\", \"Province\": null, \"Confirmed\": 32, \"Deaths\": 0, \"Recovered\": 2}, {\"Date\": \"2020-02-28T00:00:00\", \"Country\": \"Switzerland\", \"Province\": null, \"Confirmed\": 8, \"Deaths\": 0, \"Recovered\": 0}, {\"Date\": \"2020-02-28T00:00:00\", \"Country\": \"Austria\", \"Province\": null, \"Confirmed\": 3, \"Deaths\": 0, \"Recovered\": 0}, {\"Date\": \"2020-02-29T00:00:00\", \"Country\": \"South Korea\", \"Province\": null, \"Confirmed\": 3150, \"Deaths\": 16, \"Recovered\": 27}, {\"Date\": \"2020-02-29T00:00:00\", \"Country\": \"France\", \"Province\": null, \"Confirmed\": 100, \"Deaths\": 2, \"Recovered\": 12}, {\"Date\": \"2020-02-29T00:00:00\", \"Country\": \"Germany\", \"Province\": null, \"Confirmed\": 79, \"Deaths\": 0, \"Recovered\": 16}, {\"Date\": \"2020-02-29T00:00:00\", \"Country\": \"Italy\", \"Province\": null, \"Confirmed\": 1128, \"Deaths\": 29, \"Recovered\": 46}, {\"Date\": \"2020-02-29T00:00:00\", \"Country\": \"Spain\", \"Province\": null, \"Confirmed\": 45, \"Deaths\": 0, \"Recovered\": 2}, {\"Date\": \"2020-02-29T00:00:00\", \"Country\": \"Switzerland\", \"Province\": null, \"Confirmed\": 18, \"Deaths\": 0, \"Recovered\": 0}, {\"Date\": \"2020-02-29T00:00:00\", \"Country\": \"Austria\", \"Province\": null, \"Confirmed\": 9, \"Deaths\": 0, \"Recovered\": 0}, {\"Date\": \"2020-03-01T00:00:00\", \"Country\": \"South Korea\", \"Province\": null, \"Confirmed\": 3736, \"Deaths\": 17, \"Recovered\": 30}, {\"Date\": \"2020-03-01T00:00:00\", \"Country\": \"France\", \"Province\": null, \"Confirmed\": 130, \"Deaths\": 2, \"Recovered\": 12}, {\"Date\": \"2020-03-01T00:00:00\", \"Country\": \"Germany\", \"Province\": null, \"Confirmed\": 130, \"Deaths\": 0, \"Recovered\": 16}, {\"Date\": \"2020-03-01T00:00:00\", \"Country\": \"Italy\", \"Province\": null, \"Confirmed\": 1694, \"Deaths\": 34, \"Recovered\": 83}, {\"Date\": \"2020-03-01T00:00:00\", \"Country\": \"Spain\", \"Province\": null, \"Confirmed\": 84, \"Deaths\": 0, \"Recovered\": 2}, {\"Date\": \"2020-03-01T00:00:00\", \"Country\": \"Switzerland\", \"Province\": null, \"Confirmed\": 27, \"Deaths\": 0, \"Recovered\": 0}, {\"Date\": \"2020-03-01T00:00:00\", \"Country\": \"Austria\", \"Province\": null, \"Confirmed\": 14, \"Deaths\": 0, \"Recovered\": 0}, {\"Date\": \"2020-03-02T00:00:00\", \"Country\": \"South Korea\", \"Province\": null, \"Confirmed\": 4335, \"Deaths\": 28, \"Recovered\": 30}, {\"Date\": \"2020-03-02T00:00:00\", \"Country\": \"France\", \"Province\": null, \"Confirmed\": 191, \"Deaths\": 3, \"Recovered\": 12}, {\"Date\": \"2020-03-02T00:00:00\", \"Country\": \"Germany\", \"Province\": null, \"Confirmed\": 159, \"Deaths\": 0, \"Recovered\": 16}, {\"Date\": \"2020-03-02T00:00:00\", \"Country\": \"Italy\", \"Province\": null, \"Confirmed\": 2036, \"Deaths\": 52, \"Recovered\": 149}, {\"Date\": \"2020-03-02T00:00:00\", \"Country\": \"Spain\", \"Province\": null, \"Confirmed\": 120, \"Deaths\": 0, \"Recovered\": 2}, {\"Date\": \"2020-03-02T00:00:00\", \"Country\": \"Switzerland\", \"Province\": null, \"Confirmed\": 42, \"Deaths\": 0, \"Recovered\": 0}, {\"Date\": \"2020-03-02T00:00:00\", \"Country\": \"Austria\", \"Province\": null, \"Confirmed\": 18, \"Deaths\": 0, \"Recovered\": 0}, {\"Date\": \"2020-03-03T00:00:00\", \"Country\": \"South Korea\", \"Province\": null, \"Confirmed\": 5186, \"Deaths\": 28, \"Recovered\": 30}, {\"Date\": \"2020-03-03T00:00:00\", \"Country\": \"France\", \"Province\": null, \"Confirmed\": 204, \"Deaths\": 4, \"Recovered\": 12}, {\"Date\": \"2020-03-03T00:00:00\", \"Country\": \"Germany\", \"Province\": null, \"Confirmed\": 196, \"Deaths\": 0, \"Recovered\": 16}, {\"Date\": \"2020-03-03T00:00:00\", \"Country\": \"Italy\", \"Province\": null, \"Confirmed\": 2502, \"Deaths\": 79, \"Recovered\": 160}, {\"Date\": \"2020-03-03T00:00:00\", \"Country\": \"Spain\", \"Province\": null, \"Confirmed\": 165, \"Deaths\": 1, \"Recovered\": 2}, {\"Date\": \"2020-03-03T00:00:00\", \"Country\": \"Switzerland\", \"Province\": null, \"Confirmed\": 56, \"Deaths\": 0, \"Recovered\": 2}, {\"Date\": \"2020-03-03T00:00:00\", \"Country\": \"Austria\", \"Province\": null, \"Confirmed\": 21, \"Deaths\": 0, \"Recovered\": 0}, {\"Date\": \"2020-03-04T00:00:00\", \"Country\": \"South Korea\", \"Province\": null, \"Confirmed\": 5621, \"Deaths\": 35, \"Recovered\": 41}, {\"Date\": \"2020-03-04T00:00:00\", \"Country\": \"France\", \"Province\": null, \"Confirmed\": 285, \"Deaths\": 4, \"Recovered\": 12}, {\"Date\": \"2020-03-04T00:00:00\", \"Country\": \"Germany\", \"Province\": null, \"Confirmed\": 262, \"Deaths\": 0, \"Recovered\": 16}, {\"Date\": \"2020-03-04T00:00:00\", \"Country\": \"Italy\", \"Province\": null, \"Confirmed\": 3089, \"Deaths\": 107, \"Recovered\": 276}, {\"Date\": \"2020-03-04T00:00:00\", \"Country\": \"Spain\", \"Province\": null, \"Confirmed\": 222, \"Deaths\": 2, \"Recovered\": 2}, {\"Date\": \"2020-03-04T00:00:00\", \"Country\": \"Switzerland\", \"Province\": null, \"Confirmed\": 90, \"Deaths\": 0, \"Recovered\": 3}, {\"Date\": \"2020-03-04T00:00:00\", \"Country\": \"Austria\", \"Province\": null, \"Confirmed\": 29, \"Deaths\": 0, \"Recovered\": 0}, {\"Date\": \"2020-03-05T00:00:00\", \"Country\": \"South Korea\", \"Province\": null, \"Confirmed\": 6088, \"Deaths\": 35, \"Recovered\": 41}, {\"Date\": \"2020-03-05T00:00:00\", \"Country\": \"France\", \"Province\": null, \"Confirmed\": 377, \"Deaths\": 6, \"Recovered\": 12}, {\"Date\": \"2020-03-05T00:00:00\", \"Country\": \"Germany\", \"Province\": null, \"Confirmed\": 482, \"Deaths\": 0, \"Recovered\": 16}, {\"Date\": \"2020-03-05T00:00:00\", \"Country\": \"Italy\", \"Province\": null, \"Confirmed\": 3858, \"Deaths\": 148, \"Recovered\": 414}, {\"Date\": \"2020-03-05T00:00:00\", \"Country\": \"Spain\", \"Province\": null, \"Confirmed\": 259, \"Deaths\": 3, \"Recovered\": 2}, {\"Date\": \"2020-03-05T00:00:00\", \"Country\": \"Switzerland\", \"Province\": null, \"Confirmed\": 114, \"Deaths\": 1, \"Recovered\": 3}, {\"Date\": \"2020-03-05T00:00:00\", \"Country\": \"Austria\", \"Province\": null, \"Confirmed\": 41, \"Deaths\": 0, \"Recovered\": 0}, {\"Date\": \"2020-03-06T00:00:00\", \"Country\": \"South Korea\", \"Province\": null, \"Confirmed\": 6593, \"Deaths\": 42, \"Recovered\": 135}, {\"Date\": \"2020-03-06T00:00:00\", \"Country\": \"France\", \"Province\": null, \"Confirmed\": 653, \"Deaths\": 9, \"Recovered\": 12}, {\"Date\": \"2020-03-06T00:00:00\", \"Country\": \"Germany\", \"Province\": null, \"Confirmed\": 670, \"Deaths\": 0, \"Recovered\": 17}, {\"Date\": \"2020-03-06T00:00:00\", \"Country\": \"Italy\", \"Province\": null, \"Confirmed\": 4636, \"Deaths\": 197, \"Recovered\": 523}, {\"Date\": \"2020-03-06T00:00:00\", \"Country\": \"Spain\", \"Province\": null, \"Confirmed\": 400, \"Deaths\": 5, \"Recovered\": 2}, {\"Date\": \"2020-03-06T00:00:00\", \"Country\": \"Switzerland\", \"Province\": null, \"Confirmed\": 214, \"Deaths\": 1, \"Recovered\": 3}, {\"Date\": \"2020-03-06T00:00:00\", \"Country\": \"Austria\", \"Province\": null, \"Confirmed\": 55, \"Deaths\": 0, \"Recovered\": 0}]}}, {\"mode\": \"vega-lite\"});\n",
       "</script>"
      ],
      "text/plain": [
       "alt.Chart(...)"
      ]
     },
     "execution_count": 6,
     "metadata": {},
     "output_type": "execute_result"
    }
   ],
   "source": [
    "alt.themes.enable('theme_1')\n",
    "from altair import datum\n",
    "\n",
    "alt.Chart(df[(df.Country.isin(['Italy', 'Austria', 'France', 'Spain', 'Germany', 'South Korea', 'Switzerland'])) & (df.Date>'2020-02-20')]).mark_line().encode(\n",
    "    alt.Y('Confirmed', scale=alt.Scale(type='log')),\n",
    "    alt.X('Date:T', axis = alt.Axis(title = 'Date', format = (\"%d.%m\"))),\n",
    "    color='Country',\n",
    "    tooltip=['Country', 'Date', 'Confirmed']\n",
    ").properties(\n",
    "    height=600,\n",
    "    width=800\n",
    ").transform_filter(\n",
    "    (datum.Confirmed > 20)\n",
    ").interactive()"
   ]
  },
  {
   "cell_type": "markdown",
   "metadata": {},
   "source": [
    "## Number of deaths in selected countries"
   ]
  },
  {
   "cell_type": "code",
   "execution_count": 8,
   "metadata": {},
   "outputs": [
    {
     "data": {
      "text/html": [
       "\n",
       "<div id=\"altair-viz-a39f3afc585a4b33af956a48673b7034\"></div>\n",
       "<script type=\"text/javascript\">\n",
       "  (function(spec, embedOpt){\n",
       "    const outputDiv = document.getElementById(\"altair-viz-a39f3afc585a4b33af956a48673b7034\");\n",
       "    const paths = {\n",
       "      \"vega\": \"https://cdn.jsdelivr.net/npm//vega@5?noext\",\n",
       "      \"vega-lib\": \"https://cdn.jsdelivr.net/npm//vega-lib?noext\",\n",
       "      \"vega-lite\": \"https://cdn.jsdelivr.net/npm//vega-lite@4.0.2?noext\",\n",
       "      \"vega-embed\": \"https://cdn.jsdelivr.net/npm//vega-embed@6?noext\",\n",
       "    };\n",
       "\n",
       "    function loadScript(lib) {\n",
       "      return new Promise(function(resolve, reject) {\n",
       "        var s = document.createElement('script');\n",
       "        s.src = paths[lib];\n",
       "        s.async = true;\n",
       "        s.onload = () => resolve(paths[lib]);\n",
       "        s.onerror = () => reject(`Error loading script: ${paths[lib]}`);\n",
       "        document.getElementsByTagName(\"head\")[0].appendChild(s);\n",
       "      });\n",
       "    }\n",
       "\n",
       "    function showError(err) {\n",
       "      outputDiv.innerHTML = `<div class=\"error\" style=\"color:red;\">${err}</div>`;\n",
       "      throw err;\n",
       "    }\n",
       "\n",
       "    function displayChart(vegaEmbed) {\n",
       "      vegaEmbed(outputDiv, spec, embedOpt)\n",
       "        .catch(err => showError(`Javascript Error: ${err.message}<br>This usually means there's a typo in your chart specification. See the javascript console for the full traceback.`));\n",
       "    }\n",
       "\n",
       "    if(typeof define === \"function\" && define.amd) {\n",
       "      requirejs.config({paths});\n",
       "      require([\"vega-embed\"], displayChart, err => showError(`Error loading script: ${err.message}`));\n",
       "    } else if (typeof vegaEmbed === \"function\") {\n",
       "      displayChart(vegaEmbed);\n",
       "    } else {\n",
       "      loadScript(\"vega\")\n",
       "        .then(() => loadScript(\"vega-lite\"))\n",
       "        .then(() => loadScript(\"vega-embed\"))\n",
       "        .catch(showError)\n",
       "        .then(() => displayChart(vegaEmbed));\n",
       "    }\n",
       "  })({\"width\": 600, \"height\": 600, \"config\": {\"line\": {\"strokeWidth\": 4}, \"style\": {\"bar\": {\"size\": 20}}, \"legend\": {\"symbolSize\": 100, \"titleFontSize\": 20, \"labelFontSize\": 20}, \"axis\": {\"titleFontSize\": 20, \"labelFontSize\": 20}}, \"data\": {\"name\": \"data-aa90936e0dd2be9b894c773defb5723e\"}, \"mark\": \"line\", \"encoding\": {\"color\": {\"type\": \"nominal\", \"field\": \"Country\"}, \"tooltip\": [{\"type\": \"nominal\", \"field\": \"Country\"}, {\"type\": \"temporal\", \"field\": \"Date\"}, {\"type\": \"quantitative\", \"field\": \"Deaths\"}], \"x\": {\"type\": \"temporal\", \"field\": \"Date\"}, \"y\": {\"type\": \"quantitative\", \"field\": \"Deaths\"}}, \"selection\": {\"selector005\": {\"type\": \"interval\", \"bind\": \"scales\", \"encodings\": [\"x\", \"y\"]}}, \"transform\": [{\"filter\": \"(datum.Confirmed > 0)\"}], \"$schema\": \"https://vega.github.io/schema/vega-lite/v4.0.2.json\", \"datasets\": {\"data-aa90936e0dd2be9b894c773defb5723e\": [{\"Date\": \"2020-02-21T00:00:00\", \"Country\": \"South Korea\", \"Province\": null, \"Confirmed\": 204, \"Deaths\": 2, \"Recovered\": 16}, {\"Date\": \"2020-02-21T00:00:00\", \"Country\": \"France\", \"Province\": null, \"Confirmed\": 12, \"Deaths\": 1, \"Recovered\": 4}, {\"Date\": \"2020-02-21T00:00:00\", \"Country\": \"Germany\", \"Province\": null, \"Confirmed\": 16, \"Deaths\": 0, \"Recovered\": 14}, {\"Date\": \"2020-02-21T00:00:00\", \"Country\": \"Italy\", \"Province\": null, \"Confirmed\": 20, \"Deaths\": 1, \"Recovered\": 0}, {\"Date\": \"2020-02-21T00:00:00\", \"Country\": \"Spain\", \"Province\": null, \"Confirmed\": 2, \"Deaths\": 0, \"Recovered\": 2}, {\"Date\": \"2020-02-21T00:00:00\", \"Country\": \"Switzerland\", \"Province\": null, \"Confirmed\": 0, \"Deaths\": 0, \"Recovered\": 0}, {\"Date\": \"2020-02-21T00:00:00\", \"Country\": \"Austria\", \"Province\": null, \"Confirmed\": 0, \"Deaths\": 0, \"Recovered\": 0}, {\"Date\": \"2020-02-22T00:00:00\", \"Country\": \"South Korea\", \"Province\": null, \"Confirmed\": 433, \"Deaths\": 2, \"Recovered\": 16}, {\"Date\": \"2020-02-22T00:00:00\", \"Country\": \"France\", \"Province\": null, \"Confirmed\": 12, \"Deaths\": 1, \"Recovered\": 4}, {\"Date\": \"2020-02-22T00:00:00\", \"Country\": \"Germany\", \"Province\": null, \"Confirmed\": 16, \"Deaths\": 0, \"Recovered\": 14}, {\"Date\": \"2020-02-22T00:00:00\", \"Country\": \"Italy\", \"Province\": null, \"Confirmed\": 62, \"Deaths\": 2, \"Recovered\": 1}, {\"Date\": \"2020-02-22T00:00:00\", \"Country\": \"Spain\", \"Province\": null, \"Confirmed\": 2, \"Deaths\": 0, \"Recovered\": 2}, {\"Date\": \"2020-02-22T00:00:00\", \"Country\": \"Switzerland\", \"Province\": null, \"Confirmed\": 0, \"Deaths\": 0, \"Recovered\": 0}, {\"Date\": \"2020-02-22T00:00:00\", \"Country\": \"Austria\", \"Province\": null, \"Confirmed\": 0, \"Deaths\": 0, \"Recovered\": 0}, {\"Date\": \"2020-02-23T00:00:00\", \"Country\": \"South Korea\", \"Province\": null, \"Confirmed\": 602, \"Deaths\": 6, \"Recovered\": 18}, {\"Date\": \"2020-02-23T00:00:00\", \"Country\": \"France\", \"Province\": null, \"Confirmed\": 12, \"Deaths\": 1, \"Recovered\": 4}, {\"Date\": \"2020-02-23T00:00:00\", \"Country\": \"Germany\", \"Province\": null, \"Confirmed\": 16, \"Deaths\": 0, \"Recovered\": 14}, {\"Date\": \"2020-02-23T00:00:00\", \"Country\": \"Italy\", \"Province\": null, \"Confirmed\": 155, \"Deaths\": 3, \"Recovered\": 2}, {\"Date\": \"2020-02-23T00:00:00\", \"Country\": \"Spain\", \"Province\": null, \"Confirmed\": 2, \"Deaths\": 0, \"Recovered\": 2}, {\"Date\": \"2020-02-23T00:00:00\", \"Country\": \"Switzerland\", \"Province\": null, \"Confirmed\": 0, \"Deaths\": 0, \"Recovered\": 0}, {\"Date\": \"2020-02-23T00:00:00\", \"Country\": \"Austria\", \"Province\": null, \"Confirmed\": 0, \"Deaths\": 0, \"Recovered\": 0}, {\"Date\": \"2020-02-24T00:00:00\", \"Country\": \"South Korea\", \"Province\": null, \"Confirmed\": 833, \"Deaths\": 8, \"Recovered\": 18}, {\"Date\": \"2020-02-24T00:00:00\", \"Country\": \"France\", \"Province\": null, \"Confirmed\": 12, \"Deaths\": 1, \"Recovered\": 4}, {\"Date\": \"2020-02-24T00:00:00\", \"Country\": \"Germany\", \"Province\": null, \"Confirmed\": 16, \"Deaths\": 0, \"Recovered\": 14}, {\"Date\": \"2020-02-24T00:00:00\", \"Country\": \"Italy\", \"Province\": null, \"Confirmed\": 229, \"Deaths\": 7, \"Recovered\": 1}, {\"Date\": \"2020-02-24T00:00:00\", \"Country\": \"Spain\", \"Province\": null, \"Confirmed\": 2, \"Deaths\": 0, \"Recovered\": 2}, {\"Date\": \"2020-02-24T00:00:00\", \"Country\": \"Switzerland\", \"Province\": null, \"Confirmed\": 0, \"Deaths\": 0, \"Recovered\": 0}, {\"Date\": \"2020-02-24T00:00:00\", \"Country\": \"Austria\", \"Province\": null, \"Confirmed\": 0, \"Deaths\": 0, \"Recovered\": 0}, {\"Date\": \"2020-02-25T00:00:00\", \"Country\": \"South Korea\", \"Province\": null, \"Confirmed\": 977, \"Deaths\": 10, \"Recovered\": 22}, {\"Date\": \"2020-02-25T00:00:00\", \"Country\": \"France\", \"Province\": null, \"Confirmed\": 14, \"Deaths\": 1, \"Recovered\": 11}, {\"Date\": \"2020-02-25T00:00:00\", \"Country\": \"Germany\", \"Province\": null, \"Confirmed\": 17, \"Deaths\": 0, \"Recovered\": 14}, {\"Date\": \"2020-02-25T00:00:00\", \"Country\": \"Italy\", \"Province\": null, \"Confirmed\": 322, \"Deaths\": 10, \"Recovered\": 1}, {\"Date\": \"2020-02-25T00:00:00\", \"Country\": \"Spain\", \"Province\": null, \"Confirmed\": 6, \"Deaths\": 0, \"Recovered\": 2}, {\"Date\": \"2020-02-25T00:00:00\", \"Country\": \"Switzerland\", \"Province\": null, \"Confirmed\": 1, \"Deaths\": 0, \"Recovered\": 0}, {\"Date\": \"2020-02-25T00:00:00\", \"Country\": \"Austria\", \"Province\": null, \"Confirmed\": 2, \"Deaths\": 0, \"Recovered\": 0}, {\"Date\": \"2020-02-26T00:00:00\", \"Country\": \"South Korea\", \"Province\": null, \"Confirmed\": 1261, \"Deaths\": 12, \"Recovered\": 22}, {\"Date\": \"2020-02-26T00:00:00\", \"Country\": \"France\", \"Province\": null, \"Confirmed\": 18, \"Deaths\": 2, \"Recovered\": 11}, {\"Date\": \"2020-02-26T00:00:00\", \"Country\": \"Germany\", \"Province\": null, \"Confirmed\": 27, \"Deaths\": 0, \"Recovered\": 15}, {\"Date\": \"2020-02-26T00:00:00\", \"Country\": \"Italy\", \"Province\": null, \"Confirmed\": 453, \"Deaths\": 12, \"Recovered\": 3}, {\"Date\": \"2020-02-26T00:00:00\", \"Country\": \"Spain\", \"Province\": null, \"Confirmed\": 13, \"Deaths\": 0, \"Recovered\": 2}, {\"Date\": \"2020-02-26T00:00:00\", \"Country\": \"Switzerland\", \"Province\": null, \"Confirmed\": 1, \"Deaths\": 0, \"Recovered\": 0}, {\"Date\": \"2020-02-26T00:00:00\", \"Country\": \"Austria\", \"Province\": null, \"Confirmed\": 2, \"Deaths\": 0, \"Recovered\": 0}, {\"Date\": \"2020-02-27T00:00:00\", \"Country\": \"South Korea\", \"Province\": null, \"Confirmed\": 1766, \"Deaths\": 13, \"Recovered\": 22}, {\"Date\": \"2020-02-27T00:00:00\", \"Country\": \"France\", \"Province\": null, \"Confirmed\": 38, \"Deaths\": 2, \"Recovered\": 11}, {\"Date\": \"2020-02-27T00:00:00\", \"Country\": \"Germany\", \"Province\": null, \"Confirmed\": 46, \"Deaths\": 0, \"Recovered\": 16}, {\"Date\": \"2020-02-27T00:00:00\", \"Country\": \"Italy\", \"Province\": null, \"Confirmed\": 655, \"Deaths\": 17, \"Recovered\": 45}, {\"Date\": \"2020-02-27T00:00:00\", \"Country\": \"Spain\", \"Province\": null, \"Confirmed\": 15, \"Deaths\": 0, \"Recovered\": 2}, {\"Date\": \"2020-02-27T00:00:00\", \"Country\": \"Switzerland\", \"Province\": null, \"Confirmed\": 8, \"Deaths\": 0, \"Recovered\": 0}, {\"Date\": \"2020-02-27T00:00:00\", \"Country\": \"Austria\", \"Province\": null, \"Confirmed\": 3, \"Deaths\": 0, \"Recovered\": 0}, {\"Date\": \"2020-02-28T00:00:00\", \"Country\": \"South Korea\", \"Province\": null, \"Confirmed\": 2337, \"Deaths\": 13, \"Recovered\": 22}, {\"Date\": \"2020-02-28T00:00:00\", \"Country\": \"France\", \"Province\": null, \"Confirmed\": 57, \"Deaths\": 2, \"Recovered\": 11}, {\"Date\": \"2020-02-28T00:00:00\", \"Country\": \"Germany\", \"Province\": null, \"Confirmed\": 48, \"Deaths\": 0, \"Recovered\": 16}, {\"Date\": \"2020-02-28T00:00:00\", \"Country\": \"Italy\", \"Province\": null, \"Confirmed\": 888, \"Deaths\": 21, \"Recovered\": 46}, {\"Date\": \"2020-02-28T00:00:00\", \"Country\": \"Spain\", \"Province\": null, \"Confirmed\": 32, \"Deaths\": 0, \"Recovered\": 2}, {\"Date\": \"2020-02-28T00:00:00\", \"Country\": \"Switzerland\", \"Province\": null, \"Confirmed\": 8, \"Deaths\": 0, \"Recovered\": 0}, {\"Date\": \"2020-02-28T00:00:00\", \"Country\": \"Austria\", \"Province\": null, \"Confirmed\": 3, \"Deaths\": 0, \"Recovered\": 0}, {\"Date\": \"2020-02-29T00:00:00\", \"Country\": \"South Korea\", \"Province\": null, \"Confirmed\": 3150, \"Deaths\": 16, \"Recovered\": 27}, {\"Date\": \"2020-02-29T00:00:00\", \"Country\": \"France\", \"Province\": null, \"Confirmed\": 100, \"Deaths\": 2, \"Recovered\": 12}, {\"Date\": \"2020-02-29T00:00:00\", \"Country\": \"Germany\", \"Province\": null, \"Confirmed\": 79, \"Deaths\": 0, \"Recovered\": 16}, {\"Date\": \"2020-02-29T00:00:00\", \"Country\": \"Italy\", \"Province\": null, \"Confirmed\": 1128, \"Deaths\": 29, \"Recovered\": 46}, {\"Date\": \"2020-02-29T00:00:00\", \"Country\": \"Spain\", \"Province\": null, \"Confirmed\": 45, \"Deaths\": 0, \"Recovered\": 2}, {\"Date\": \"2020-02-29T00:00:00\", \"Country\": \"Switzerland\", \"Province\": null, \"Confirmed\": 18, \"Deaths\": 0, \"Recovered\": 0}, {\"Date\": \"2020-02-29T00:00:00\", \"Country\": \"Austria\", \"Province\": null, \"Confirmed\": 9, \"Deaths\": 0, \"Recovered\": 0}, {\"Date\": \"2020-03-01T00:00:00\", \"Country\": \"South Korea\", \"Province\": null, \"Confirmed\": 3736, \"Deaths\": 17, \"Recovered\": 30}, {\"Date\": \"2020-03-01T00:00:00\", \"Country\": \"France\", \"Province\": null, \"Confirmed\": 130, \"Deaths\": 2, \"Recovered\": 12}, {\"Date\": \"2020-03-01T00:00:00\", \"Country\": \"Germany\", \"Province\": null, \"Confirmed\": 130, \"Deaths\": 0, \"Recovered\": 16}, {\"Date\": \"2020-03-01T00:00:00\", \"Country\": \"Italy\", \"Province\": null, \"Confirmed\": 1694, \"Deaths\": 34, \"Recovered\": 83}, {\"Date\": \"2020-03-01T00:00:00\", \"Country\": \"Spain\", \"Province\": null, \"Confirmed\": 84, \"Deaths\": 0, \"Recovered\": 2}, {\"Date\": \"2020-03-01T00:00:00\", \"Country\": \"Switzerland\", \"Province\": null, \"Confirmed\": 27, \"Deaths\": 0, \"Recovered\": 0}, {\"Date\": \"2020-03-01T00:00:00\", \"Country\": \"Austria\", \"Province\": null, \"Confirmed\": 14, \"Deaths\": 0, \"Recovered\": 0}, {\"Date\": \"2020-03-02T00:00:00\", \"Country\": \"South Korea\", \"Province\": null, \"Confirmed\": 4335, \"Deaths\": 28, \"Recovered\": 30}, {\"Date\": \"2020-03-02T00:00:00\", \"Country\": \"France\", \"Province\": null, \"Confirmed\": 191, \"Deaths\": 3, \"Recovered\": 12}, {\"Date\": \"2020-03-02T00:00:00\", \"Country\": \"Germany\", \"Province\": null, \"Confirmed\": 159, \"Deaths\": 0, \"Recovered\": 16}, {\"Date\": \"2020-03-02T00:00:00\", \"Country\": \"Italy\", \"Province\": null, \"Confirmed\": 2036, \"Deaths\": 52, \"Recovered\": 149}, {\"Date\": \"2020-03-02T00:00:00\", \"Country\": \"Spain\", \"Province\": null, \"Confirmed\": 120, \"Deaths\": 0, \"Recovered\": 2}, {\"Date\": \"2020-03-02T00:00:00\", \"Country\": \"Switzerland\", \"Province\": null, \"Confirmed\": 42, \"Deaths\": 0, \"Recovered\": 0}, {\"Date\": \"2020-03-02T00:00:00\", \"Country\": \"Austria\", \"Province\": null, \"Confirmed\": 18, \"Deaths\": 0, \"Recovered\": 0}, {\"Date\": \"2020-03-03T00:00:00\", \"Country\": \"South Korea\", \"Province\": null, \"Confirmed\": 5186, \"Deaths\": 28, \"Recovered\": 30}, {\"Date\": \"2020-03-03T00:00:00\", \"Country\": \"France\", \"Province\": null, \"Confirmed\": 204, \"Deaths\": 4, \"Recovered\": 12}, {\"Date\": \"2020-03-03T00:00:00\", \"Country\": \"Germany\", \"Province\": null, \"Confirmed\": 196, \"Deaths\": 0, \"Recovered\": 16}, {\"Date\": \"2020-03-03T00:00:00\", \"Country\": \"Italy\", \"Province\": null, \"Confirmed\": 2502, \"Deaths\": 79, \"Recovered\": 160}, {\"Date\": \"2020-03-03T00:00:00\", \"Country\": \"Spain\", \"Province\": null, \"Confirmed\": 165, \"Deaths\": 1, \"Recovered\": 2}, {\"Date\": \"2020-03-03T00:00:00\", \"Country\": \"Switzerland\", \"Province\": null, \"Confirmed\": 56, \"Deaths\": 0, \"Recovered\": 2}, {\"Date\": \"2020-03-03T00:00:00\", \"Country\": \"Austria\", \"Province\": null, \"Confirmed\": 21, \"Deaths\": 0, \"Recovered\": 0}, {\"Date\": \"2020-03-04T00:00:00\", \"Country\": \"South Korea\", \"Province\": null, \"Confirmed\": 5621, \"Deaths\": 35, \"Recovered\": 41}, {\"Date\": \"2020-03-04T00:00:00\", \"Country\": \"France\", \"Province\": null, \"Confirmed\": 285, \"Deaths\": 4, \"Recovered\": 12}, {\"Date\": \"2020-03-04T00:00:00\", \"Country\": \"Germany\", \"Province\": null, \"Confirmed\": 262, \"Deaths\": 0, \"Recovered\": 16}, {\"Date\": \"2020-03-04T00:00:00\", \"Country\": \"Italy\", \"Province\": null, \"Confirmed\": 3089, \"Deaths\": 107, \"Recovered\": 276}, {\"Date\": \"2020-03-04T00:00:00\", \"Country\": \"Spain\", \"Province\": null, \"Confirmed\": 222, \"Deaths\": 2, \"Recovered\": 2}, {\"Date\": \"2020-03-04T00:00:00\", \"Country\": \"Switzerland\", \"Province\": null, \"Confirmed\": 90, \"Deaths\": 0, \"Recovered\": 3}, {\"Date\": \"2020-03-04T00:00:00\", \"Country\": \"Austria\", \"Province\": null, \"Confirmed\": 29, \"Deaths\": 0, \"Recovered\": 0}, {\"Date\": \"2020-03-05T00:00:00\", \"Country\": \"South Korea\", \"Province\": null, \"Confirmed\": 6088, \"Deaths\": 35, \"Recovered\": 41}, {\"Date\": \"2020-03-05T00:00:00\", \"Country\": \"France\", \"Province\": null, \"Confirmed\": 377, \"Deaths\": 6, \"Recovered\": 12}, {\"Date\": \"2020-03-05T00:00:00\", \"Country\": \"Germany\", \"Province\": null, \"Confirmed\": 482, \"Deaths\": 0, \"Recovered\": 16}, {\"Date\": \"2020-03-05T00:00:00\", \"Country\": \"Italy\", \"Province\": null, \"Confirmed\": 3858, \"Deaths\": 148, \"Recovered\": 414}, {\"Date\": \"2020-03-05T00:00:00\", \"Country\": \"Spain\", \"Province\": null, \"Confirmed\": 259, \"Deaths\": 3, \"Recovered\": 2}, {\"Date\": \"2020-03-05T00:00:00\", \"Country\": \"Switzerland\", \"Province\": null, \"Confirmed\": 114, \"Deaths\": 1, \"Recovered\": 3}, {\"Date\": \"2020-03-05T00:00:00\", \"Country\": \"Austria\", \"Province\": null, \"Confirmed\": 41, \"Deaths\": 0, \"Recovered\": 0}, {\"Date\": \"2020-03-06T00:00:00\", \"Country\": \"South Korea\", \"Province\": null, \"Confirmed\": 6593, \"Deaths\": 42, \"Recovered\": 135}, {\"Date\": \"2020-03-06T00:00:00\", \"Country\": \"France\", \"Province\": null, \"Confirmed\": 653, \"Deaths\": 9, \"Recovered\": 12}, {\"Date\": \"2020-03-06T00:00:00\", \"Country\": \"Germany\", \"Province\": null, \"Confirmed\": 670, \"Deaths\": 0, \"Recovered\": 17}, {\"Date\": \"2020-03-06T00:00:00\", \"Country\": \"Italy\", \"Province\": null, \"Confirmed\": 4636, \"Deaths\": 197, \"Recovered\": 523}, {\"Date\": \"2020-03-06T00:00:00\", \"Country\": \"Spain\", \"Province\": null, \"Confirmed\": 400, \"Deaths\": 5, \"Recovered\": 2}, {\"Date\": \"2020-03-06T00:00:00\", \"Country\": \"Switzerland\", \"Province\": null, \"Confirmed\": 214, \"Deaths\": 1, \"Recovered\": 3}, {\"Date\": \"2020-03-06T00:00:00\", \"Country\": \"Austria\", \"Province\": null, \"Confirmed\": 55, \"Deaths\": 0, \"Recovered\": 0}]}}, {\"mode\": \"vega-lite\"});\n",
       "</script>"
      ],
      "text/plain": [
       "alt.Chart(...)"
      ]
     },
     "execution_count": 8,
     "metadata": {},
     "output_type": "execute_result"
    }
   ],
   "source": [
    "alt.themes.enable('theme_1')\n",
    "from altair import datum\n",
    "\n",
    "alt.Chart(df[(df.Country.isin(['Italy', 'Austria', 'France', 'Spain', 'Germany', 'South Korea', 'Switzerland'])) & (df.Date>'2020-02-20')]).mark_line().encode(\n",
    "    alt.Y('Deaths'),\n",
    "    x='Date',\n",
    "    color='Country',\n",
    "    tooltip=['Country', 'Date', 'Deaths']\n",
    ").properties(\n",
    "    height=600,\n",
    "    width=600\n",
    ").transform_filter(\n",
    "    (datum.Confirmed > 0)\n",
    ").interactive()"
   ]
  },
  {
   "cell_type": "code",
   "execution_count": null,
   "metadata": {},
   "outputs": [],
   "source": []
  }
 ],
 "metadata": {
  "kernelspec": {
   "display_name": "Python 3",
   "language": "python",
   "name": "python3"
  },
  "language_info": {
   "codemirror_mode": {
    "name": "ipython",
    "version": 3
   },
   "file_extension": ".py",
   "mimetype": "text/x-python",
   "name": "python",
   "nbconvert_exporter": "python",
   "pygments_lexer": "ipython3",
   "version": "3.8.2"
  }
 },
 "nbformat": 4,
 "nbformat_minor": 4
}
