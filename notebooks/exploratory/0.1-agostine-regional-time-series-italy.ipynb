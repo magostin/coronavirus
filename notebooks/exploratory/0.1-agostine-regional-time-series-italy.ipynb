{
 "cells": [
  {
   "cell_type": "code",
   "execution_count": 2,
   "metadata": {},
   "outputs": [],
   "source": [
    "import altair as alt\n",
    "import pandas as pd\n",
    "\n",
    "from src.data.read_dataset import get_processed_dataset\n",
    "from src.visualization import visualize"
   ]
  },
  {
   "cell_type": "code",
   "execution_count": 3,
   "metadata": {},
   "outputs": [],
   "source": [
    "regions_df = get_processed_dataset('dpc_regioni_long')"
   ]
  },
  {
   "cell_type": "code",
   "execution_count": 5,
   "metadata": {},
   "outputs": [
    {
     "data": {
      "text/html": [
       "\n",
       "<div id=\"altair-viz-48a742eddf774197ada24d9b7ccde84b\"></div>\n",
       "<script type=\"text/javascript\">\n",
       "  (function(spec, embedOpt){\n",
       "    const outputDiv = document.getElementById(\"altair-viz-48a742eddf774197ada24d9b7ccde84b\");\n",
       "    const paths = {\n",
       "      \"vega\": \"https://cdn.jsdelivr.net/npm//vega@5?noext\",\n",
       "      \"vega-lib\": \"https://cdn.jsdelivr.net/npm//vega-lib?noext\",\n",
       "      \"vega-lite\": \"https://cdn.jsdelivr.net/npm//vega-lite@4.0.2?noext\",\n",
       "      \"vega-embed\": \"https://cdn.jsdelivr.net/npm//vega-embed@6?noext\",\n",
       "    };\n",
       "\n",
       "    function loadScript(lib) {\n",
       "      return new Promise(function(resolve, reject) {\n",
       "        var s = document.createElement('script');\n",
       "        s.src = paths[lib];\n",
       "        s.async = true;\n",
       "        s.onload = () => resolve(paths[lib]);\n",
       "        s.onerror = () => reject(`Error loading script: ${paths[lib]}`);\n",
       "        document.getElementsByTagName(\"head\")[0].appendChild(s);\n",
       "      });\n",
       "    }\n",
       "\n",
       "    function showError(err) {\n",
       "      outputDiv.innerHTML = `<div class=\"error\" style=\"color:red;\">${err}</div>`;\n",
       "      throw err;\n",
       "    }\n",
       "\n",
       "    function displayChart(vegaEmbed) {\n",
       "      vegaEmbed(outputDiv, spec, embedOpt)\n",
       "        .catch(err => showError(`Javascript Error: ${err.message}<br>This usually means there's a typo in your chart specification. See the javascript console for the full traceback.`));\n",
       "    }\n",
       "\n",
       "    if(typeof define === \"function\" && define.amd) {\n",
       "      requirejs.config({paths});\n",
       "      require([\"vega-embed\"], displayChart, err => showError(`Error loading script: ${err.message}`));\n",
       "    } else if (typeof vegaEmbed === \"function\") {\n",
       "      displayChart(vegaEmbed);\n",
       "    } else {\n",
       "      loadScript(\"vega\")\n",
       "        .then(() => loadScript(\"vega-lite\"))\n",
       "        .then(() => loadScript(\"vega-embed\"))\n",
       "        .catch(showError)\n",
       "        .then(() => displayChart(vegaEmbed));\n",
       "    }\n",
       "  })({\"config\": {\"view\": {\"continuousWidth\": 400, \"continuousHeight\": 300}}, \"data\": {\"name\": \"data-88caf4f139b7600f473c52cb59e4d529\"}, \"mark\": \"area\", \"encoding\": {\"color\": {\"type\": \"nominal\", \"field\": \"status\"}, \"x\": {\"type\": \"temporal\", \"field\": \"data\"}, \"y\": {\"type\": \"quantitative\", \"aggregate\": \"sum\", \"field\": \"value\"}}, \"height\": 600, \"selection\": {\"selector001\": {\"type\": \"interval\", \"bind\": \"scales\", \"encodings\": [\"x\", \"y\"]}}, \"width\": 800, \"$schema\": \"https://vega.github.io/schema/vega-lite/v4.0.2.json\", \"datasets\": {\"data-88caf4f139b7600f473c52cb59e4d529\": [{\"data\": \"2020-02-24T18:00:00\", \"stato\": \"ITA\", \"codice_regione\": 5, \"regione\": \"Veneto\", \"lat\": 45.43490485, \"long\": 12.33845213, \"status\": \"Ricoverati con sintomi\", \"value\": 12}, {\"data\": \"2020-02-25T18:00:00\", \"stato\": \"ITA\", \"codice_regione\": 5, \"regione\": \"Veneto\", \"lat\": 45.43490485, \"long\": 12.33845213, \"status\": \"Ricoverati con sintomi\", \"value\": 12}, {\"data\": \"2020-02-26T18:00:00\", \"stato\": \"ITA\", \"codice_regione\": 5, \"regione\": \"Veneto\", \"lat\": 45.43490485, \"long\": 12.33845213, \"status\": \"Ricoverati con sintomi\", \"value\": 16}, {\"data\": \"2020-02-27T18:00:00\", \"stato\": \"ITA\", \"codice_regione\": 5, \"regione\": \"Veneto\", \"lat\": 45.43490485, \"long\": 12.33845213, \"status\": \"Ricoverati con sintomi\", \"value\": 19}, {\"data\": \"2020-02-28T18:00:00\", \"stato\": \"ITA\", \"codice_regione\": 5, \"regione\": \"Veneto\", \"lat\": 45.43490485, \"long\": 12.33845213, \"status\": \"Ricoverati con sintomi\", \"value\": 24}, {\"data\": \"2020-02-29T17:00:00\", \"stato\": \"ITA\", \"codice_regione\": 5, \"regione\": \"Veneto\", \"lat\": 45.43490485, \"long\": 12.33845213, \"status\": \"Ricoverati con sintomi\", \"value\": 24}, {\"data\": \"2020-03-01T17:00:00\", \"stato\": \"ITA\", \"codice_regione\": 5, \"regione\": \"Veneto\", \"lat\": 45.43490485, \"long\": 12.33845213, \"status\": \"Ricoverati con sintomi\", \"value\": 51}, {\"data\": \"2020-03-02T18:00:00\", \"stato\": \"ITA\", \"codice_regione\": 5, \"regione\": \"Veneto\", \"lat\": 45.43490485, \"long\": 12.33845213, \"status\": \"Ricoverati con sintomi\", \"value\": 53}, {\"data\": \"2020-03-03T18:00:00\", \"stato\": \"ITA\", \"codice_regione\": 5, \"regione\": \"Veneto\", \"lat\": 45.43490485, \"long\": 12.33845213, \"status\": \"Ricoverati con sintomi\", \"value\": 49}, {\"data\": \"2020-03-04T17:00:00\", \"stato\": \"ITA\", \"codice_regione\": 5, \"regione\": \"Veneto\", \"lat\": 45.43490485, \"long\": 12.33845213, \"status\": \"Ricoverati con sintomi\", \"value\": 76}, {\"data\": \"2020-03-05T17:00:00\", \"stato\": \"ITA\", \"codice_regione\": 5, \"regione\": \"Veneto\", \"lat\": 45.43490485, \"long\": 12.33845213, \"status\": \"Ricoverati con sintomi\", \"value\": 92}, {\"data\": \"2020-03-06T17:00:00\", \"stato\": \"ITA\", \"codice_regione\": 5, \"regione\": \"Veneto\", \"lat\": 45.43490485, \"long\": 12.33845213, \"status\": \"Ricoverati con sintomi\", \"value\": 117}, {\"data\": \"2020-03-07T18:00:00\", \"stato\": \"ITA\", \"codice_regione\": 5, \"regione\": \"Veneto\", \"lat\": 45.43490485, \"long\": 12.33845213, \"status\": \"Ricoverati con sintomi\", \"value\": 123}, {\"data\": \"2020-03-08T18:00:00\", \"stato\": \"ITA\", \"codice_regione\": 5, \"regione\": \"Veneto\", \"lat\": 45.43490485, \"long\": 12.33845213, \"status\": \"Ricoverati con sintomi\", \"value\": 146}, {\"data\": \"2020-02-24T18:00:00\", \"stato\": \"ITA\", \"codice_regione\": 5, \"regione\": \"Veneto\", \"lat\": 45.43490485, \"long\": 12.33845213, \"status\": \"ICU\", \"value\": 4}, {\"data\": \"2020-02-25T18:00:00\", \"stato\": \"ITA\", \"codice_regione\": 5, \"regione\": \"Veneto\", \"lat\": 45.43490485, \"long\": 12.33845213, \"status\": \"ICU\", \"value\": 7}, {\"data\": \"2020-02-26T18:00:00\", \"stato\": \"ITA\", \"codice_regione\": 5, \"regione\": \"Veneto\", \"lat\": 45.43490485, \"long\": 12.33845213, \"status\": \"ICU\", \"value\": 8}, {\"data\": \"2020-02-27T18:00:00\", \"stato\": \"ITA\", \"codice_regione\": 5, \"regione\": \"Veneto\", \"lat\": 45.43490485, \"long\": 12.33845213, \"status\": \"ICU\", \"value\": 8}, {\"data\": \"2020-02-28T18:00:00\", \"stato\": \"ITA\", \"codice_regione\": 5, \"regione\": \"Veneto\", \"lat\": 45.43490485, \"long\": 12.33845213, \"status\": \"ICU\", \"value\": 9}, {\"data\": \"2020-02-29T17:00:00\", \"stato\": \"ITA\", \"codice_regione\": 5, \"regione\": \"Veneto\", \"lat\": 45.43490485, \"long\": 12.33845213, \"status\": \"ICU\", \"value\": 11}, {\"data\": \"2020-03-01T17:00:00\", \"stato\": \"ITA\", \"codice_regione\": 5, \"regione\": \"Veneto\", \"lat\": 45.43490485, \"long\": 12.33845213, \"status\": \"ICU\", \"value\": 13}, {\"data\": \"2020-03-02T18:00:00\", \"stato\": \"ITA\", \"codice_regione\": 5, \"regione\": \"Veneto\", \"lat\": 45.43490485, \"long\": 12.33845213, \"status\": \"ICU\", \"value\": 14}, {\"data\": \"2020-03-03T18:00:00\", \"stato\": \"ITA\", \"codice_regione\": 5, \"regione\": \"Veneto\", \"lat\": 45.43490485, \"long\": 12.33845213, \"status\": \"ICU\", \"value\": 19}, {\"data\": \"2020-03-04T17:00:00\", \"stato\": \"ITA\", \"codice_regione\": 5, \"regione\": \"Veneto\", \"lat\": 45.43490485, \"long\": 12.33845213, \"status\": \"ICU\", \"value\": 23}, {\"data\": \"2020-03-05T17:00:00\", \"stato\": \"ITA\", \"codice_regione\": 5, \"regione\": \"Veneto\", \"lat\": 45.43490485, \"long\": 12.33845213, \"status\": \"ICU\", \"value\": 24}, {\"data\": \"2020-03-06T17:00:00\", \"stato\": \"ITA\", \"codice_regione\": 5, \"regione\": \"Veneto\", \"lat\": 45.43490485, \"long\": 12.33845213, \"status\": \"ICU\", \"value\": 27}, {\"data\": \"2020-03-07T18:00:00\", \"stato\": \"ITA\", \"codice_regione\": 5, \"regione\": \"Veneto\", \"lat\": 45.43490485, \"long\": 12.33845213, \"status\": \"ICU\", \"value\": 41}, {\"data\": \"2020-03-08T18:00:00\", \"stato\": \"ITA\", \"codice_regione\": 5, \"regione\": \"Veneto\", \"lat\": 45.43490485, \"long\": 12.33845213, \"status\": \"ICU\", \"value\": 47}, {\"data\": \"2020-02-24T18:00:00\", \"stato\": \"ITA\", \"codice_regione\": 5, \"regione\": \"Veneto\", \"lat\": 45.43490485, \"long\": 12.33845213, \"status\": \"Isolamento domiciliare\", \"value\": 16}, {\"data\": \"2020-02-25T18:00:00\", \"stato\": \"ITA\", \"codice_regione\": 5, \"regione\": \"Veneto\", \"lat\": 45.43490485, \"long\": 12.33845213, \"status\": \"Isolamento domiciliare\", \"value\": 23}, {\"data\": \"2020-02-26T18:00:00\", \"stato\": \"ITA\", \"codice_regione\": 5, \"regione\": \"Veneto\", \"lat\": 45.43490485, \"long\": 12.33845213, \"status\": \"Isolamento domiciliare\", \"value\": 45}, {\"data\": \"2020-02-27T18:00:00\", \"stato\": \"ITA\", \"codice_regione\": 5, \"regione\": \"Veneto\", \"lat\": 45.43490485, \"long\": 12.33845213, \"status\": \"Isolamento domiciliare\", \"value\": 82}, {\"data\": \"2020-02-28T18:00:00\", \"stato\": \"ITA\", \"codice_regione\": 5, \"regione\": \"Veneto\", \"lat\": 45.43490485, \"long\": 12.33845213, \"status\": \"Isolamento domiciliare\", \"value\": 116}, {\"data\": \"2020-02-29T17:00:00\", \"stato\": \"ITA\", \"codice_regione\": 5, \"regione\": \"Veneto\", \"lat\": 45.43490485, \"long\": 12.33845213, \"status\": \"Isolamento domiciliare\", \"value\": 154}, {\"data\": \"2020-03-01T17:00:00\", \"stato\": \"ITA\", \"codice_regione\": 5, \"regione\": \"Veneto\", \"lat\": 45.43490485, \"long\": 12.33845213, \"status\": \"Isolamento domiciliare\", \"value\": 197}, {\"data\": \"2020-03-02T18:00:00\", \"stato\": \"ITA\", \"codice_regione\": 5, \"regione\": \"Veneto\", \"lat\": 45.43490485, \"long\": 12.33845213, \"status\": \"Isolamento domiciliare\", \"value\": 204}, {\"data\": \"2020-03-03T18:00:00\", \"stato\": \"ITA\", \"codice_regione\": 5, \"regione\": \"Veneto\", \"lat\": 45.43490485, \"long\": 12.33845213, \"status\": \"Isolamento domiciliare\", \"value\": 229}, {\"data\": \"2020-03-04T17:00:00\", \"stato\": \"ITA\", \"codice_regione\": 5, \"regione\": \"Veneto\", \"lat\": 45.43490485, \"long\": 12.33845213, \"status\": \"Isolamento domiciliare\", \"value\": 246}, {\"data\": \"2020-03-05T17:00:00\", \"stato\": \"ITA\", \"codice_regione\": 5, \"regione\": \"Veneto\", \"lat\": 45.43490485, \"long\": 12.33845213, \"status\": \"Isolamento domiciliare\", \"value\": 264}, {\"data\": \"2020-03-06T17:00:00\", \"stato\": \"ITA\", \"codice_regione\": 5, \"regione\": \"Veneto\", \"lat\": 45.43490485, \"long\": 12.33845213, \"status\": \"Isolamento domiciliare\", \"value\": 310}, {\"data\": \"2020-03-07T18:00:00\", \"stato\": \"ITA\", \"codice_regione\": 5, \"regione\": \"Veneto\", \"lat\": 45.43490485, \"long\": 12.33845213, \"status\": \"Isolamento domiciliare\", \"value\": 341}, {\"data\": \"2020-03-08T18:00:00\", \"stato\": \"ITA\", \"codice_regione\": 5, \"regione\": \"Veneto\", \"lat\": 45.43490485, \"long\": 12.33845213, \"status\": \"Isolamento domiciliare\", \"value\": 430}, {\"data\": \"2020-02-24T18:00:00\", \"stato\": \"ITA\", \"codice_regione\": 5, \"regione\": \"Veneto\", \"lat\": 45.43490485, \"long\": 12.33845213, \"status\": \"Guariti\", \"value\": 0}, {\"data\": \"2020-02-25T18:00:00\", \"stato\": \"ITA\", \"codice_regione\": 5, \"regione\": \"Veneto\", \"lat\": 45.43490485, \"long\": 12.33845213, \"status\": \"Guariti\", \"value\": 0}, {\"data\": \"2020-02-26T18:00:00\", \"stato\": \"ITA\", \"codice_regione\": 5, \"regione\": \"Veneto\", \"lat\": 45.43490485, \"long\": 12.33845213, \"status\": \"Guariti\", \"value\": 0}, {\"data\": \"2020-02-27T18:00:00\", \"stato\": \"ITA\", \"codice_regione\": 5, \"regione\": \"Veneto\", \"lat\": 45.43490485, \"long\": 12.33845213, \"status\": \"Guariti\", \"value\": 0}, {\"data\": \"2020-02-28T18:00:00\", \"stato\": \"ITA\", \"codice_regione\": 5, \"regione\": \"Veneto\", \"lat\": 45.43490485, \"long\": 12.33845213, \"status\": \"Guariti\", \"value\": 0}, {\"data\": \"2020-02-29T17:00:00\", \"stato\": \"ITA\", \"codice_regione\": 5, \"regione\": \"Veneto\", \"lat\": 45.43490485, \"long\": 12.33845213, \"status\": \"Guariti\", \"value\": 0}, {\"data\": \"2020-03-01T17:00:00\", \"stato\": \"ITA\", \"codice_regione\": 5, \"regione\": \"Veneto\", \"lat\": 45.43490485, \"long\": 12.33845213, \"status\": \"Guariti\", \"value\": 0}, {\"data\": \"2020-03-02T18:00:00\", \"stato\": \"ITA\", \"codice_regione\": 5, \"regione\": \"Veneto\", \"lat\": 45.43490485, \"long\": 12.33845213, \"status\": \"Guariti\", \"value\": 0}, {\"data\": \"2020-03-03T18:00:00\", \"stato\": \"ITA\", \"codice_regione\": 5, \"regione\": \"Veneto\", \"lat\": 45.43490485, \"long\": 12.33845213, \"status\": \"Guariti\", \"value\": 7}, {\"data\": \"2020-03-04T17:00:00\", \"stato\": \"ITA\", \"codice_regione\": 5, \"regione\": \"Veneto\", \"lat\": 45.43490485, \"long\": 12.33845213, \"status\": \"Guariti\", \"value\": 9}, {\"data\": \"2020-03-05T17:00:00\", \"stato\": \"ITA\", \"codice_regione\": 5, \"regione\": \"Veneto\", \"lat\": 45.43490485, \"long\": 12.33845213, \"status\": \"Guariti\", \"value\": 17}, {\"data\": \"2020-03-06T17:00:00\", \"stato\": \"ITA\", \"codice_regione\": 5, \"regione\": \"Veneto\", \"lat\": 45.43490485, \"long\": 12.33845213, \"status\": \"Guariti\", \"value\": 22}, {\"data\": \"2020-03-07T18:00:00\", \"stato\": \"ITA\", \"codice_regione\": 5, \"regione\": \"Veneto\", \"lat\": 45.43490485, \"long\": 12.33845213, \"status\": \"Guariti\", \"value\": 25}, {\"data\": \"2020-03-08T18:00:00\", \"stato\": \"ITA\", \"codice_regione\": 5, \"regione\": \"Veneto\", \"lat\": 45.43490485, \"long\": 12.33845213, \"status\": \"Guariti\", \"value\": 29}, {\"data\": \"2020-02-24T18:00:00\", \"stato\": \"ITA\", \"codice_regione\": 5, \"regione\": \"Veneto\", \"lat\": 45.43490485, \"long\": 12.33845213, \"status\": \"Deceduti\", \"value\": 1}, {\"data\": \"2020-02-25T18:00:00\", \"stato\": \"ITA\", \"codice_regione\": 5, \"regione\": \"Veneto\", \"lat\": 45.43490485, \"long\": 12.33845213, \"status\": \"Deceduti\", \"value\": 1}, {\"data\": \"2020-02-26T18:00:00\", \"stato\": \"ITA\", \"codice_regione\": 5, \"regione\": \"Veneto\", \"lat\": 45.43490485, \"long\": 12.33845213, \"status\": \"Deceduti\", \"value\": 2}, {\"data\": \"2020-02-27T18:00:00\", \"stato\": \"ITA\", \"codice_regione\": 5, \"regione\": \"Veneto\", \"lat\": 45.43490485, \"long\": 12.33845213, \"status\": \"Deceduti\", \"value\": 2}, {\"data\": \"2020-02-28T18:00:00\", \"stato\": \"ITA\", \"codice_regione\": 5, \"regione\": \"Veneto\", \"lat\": 45.43490485, \"long\": 12.33845213, \"status\": \"Deceduti\", \"value\": 2}, {\"data\": \"2020-02-29T17:00:00\", \"stato\": \"ITA\", \"codice_regione\": 5, \"regione\": \"Veneto\", \"lat\": 45.43490485, \"long\": 12.33845213, \"status\": \"Deceduti\", \"value\": 2}, {\"data\": \"2020-03-01T17:00:00\", \"stato\": \"ITA\", \"codice_regione\": 5, \"regione\": \"Veneto\", \"lat\": 45.43490485, \"long\": 12.33845213, \"status\": \"Deceduti\", \"value\": 2}, {\"data\": \"2020-03-02T18:00:00\", \"stato\": \"ITA\", \"codice_regione\": 5, \"regione\": \"Veneto\", \"lat\": 45.43490485, \"long\": 12.33845213, \"status\": \"Deceduti\", \"value\": 2}, {\"data\": \"2020-03-03T18:00:00\", \"stato\": \"ITA\", \"codice_regione\": 5, \"regione\": \"Veneto\", \"lat\": 45.43490485, \"long\": 12.33845213, \"status\": \"Deceduti\", \"value\": 3}, {\"data\": \"2020-03-04T17:00:00\", \"stato\": \"ITA\", \"codice_regione\": 5, \"regione\": \"Veneto\", \"lat\": 45.43490485, \"long\": 12.33845213, \"status\": \"Deceduti\", \"value\": 6}, {\"data\": \"2020-03-05T17:00:00\", \"stato\": \"ITA\", \"codice_regione\": 5, \"regione\": \"Veneto\", \"lat\": 45.43490485, \"long\": 12.33845213, \"status\": \"Deceduti\", \"value\": 10}, {\"data\": \"2020-03-06T17:00:00\", \"stato\": \"ITA\", \"codice_regione\": 5, \"regione\": \"Veneto\", \"lat\": 45.43490485, \"long\": 12.33845213, \"status\": \"Deceduti\", \"value\": 12}, {\"data\": \"2020-03-07T18:00:00\", \"stato\": \"ITA\", \"codice_regione\": 5, \"regione\": \"Veneto\", \"lat\": 45.43490485, \"long\": 12.33845213, \"status\": \"Deceduti\", \"value\": 13}, {\"data\": \"2020-03-08T18:00:00\", \"stato\": \"ITA\", \"codice_regione\": 5, \"regione\": \"Veneto\", \"lat\": 45.43490485, \"long\": 12.33845213, \"status\": \"Deceduti\", \"value\": 18}]}}, {\"mode\": \"vega-lite\"});\n",
       "</script>"
      ],
      "text/plain": [
       "alt.Chart(...)"
      ]
     },
     "execution_count": 5,
     "metadata": {},
     "output_type": "execute_result"
    }
   ],
   "source": [
    "fields = ['Ricoverati con sintomi', 'ICU', 'Isolamento domiciliare', 'Guariti', 'Deceduti']\n",
    "alt.Chart(regions_df[(regions_df.status.isin(fields)) & (regions_df.regione == 'Veneto')]).mark_area().encode(\n",
    "    y='sum(value)',\n",
    "    x='data:T',\n",
    "    color='status:N'\n",
    ").properties(\n",
    "    height=600,\n",
    "    width=800\n",
    ").interactive()"
   ]
  },
  {
   "cell_type": "code",
   "execution_count": null,
   "metadata": {},
   "outputs": [],
   "source": []
  }
 ],
 "metadata": {
  "kernelspec": {
   "display_name": "Python 3",
   "language": "python",
   "name": "python3"
  },
  "language_info": {
   "codemirror_mode": {
    "name": "ipython",
    "version": 3
   },
   "file_extension": ".py",
   "mimetype": "text/x-python",
   "name": "python",
   "nbconvert_exporter": "python",
   "pygments_lexer": "ipython3",
   "version": "3.8.5"
  }
 },
 "nbformat": 4,
 "nbformat_minor": 4
}
