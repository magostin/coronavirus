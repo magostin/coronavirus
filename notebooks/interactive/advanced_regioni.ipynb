{
 "cells": [
  {
   "cell_type": "code",
   "execution_count": 1,
   "metadata": {},
   "outputs": [],
   "source": [
    "import altair as alt\n",
    "import seaborn as sns\n",
    "from altair import datum\n",
    "import ipywidgets as widgets\n",
    "from ipywidgets import interact, interact_manual\n",
    "from IPython.display import HTML, Markdown as md\n",
    "\n",
    "from src.data.read_dataset import get_processed_dataset\n",
    "from src.visualization import visualize as viz\n",
    "\n",
    "regioni_df = get_processed_dataset('dpc_regioni')\n",
    "today = regioni_df.groupby('regione').last().reset_index()"
   ]
  },
  {
   "cell_type": "markdown",
   "metadata": {},
   "source": [
    "## Riepilogo per regione\n",
    "\n",
    "### Casi per regione"
   ]
  },
  {
   "cell_type": "code",
   "execution_count": 2,
   "metadata": {},
   "outputs": [
    {
     "data": {
      "application/vnd.jupyter.widget-view+json": {
       "model_id": "4b1a47debe3543c1b530bb801f7d9824",
       "version_major": 2,
       "version_minor": 0
      },
      "text/plain": [
       "interactive(children=(Dropdown(description='campo', options=('totale_casi', 'deceduti'), value='totale_casi'),…"
      ]
     },
     "metadata": {},
     "output_type": "display_data"
    }
   ],
   "source": [
    "from altair import datum\n",
    "\n",
    "c = alt.Chart(regioni_df).mark_line().encode(\n",
    "        x='data:T',\n",
    "        color='regione',\n",
    "        tooltip=['regione', 'data', 'totale_casi', 'deceduti', 'totale_casi_per_1M_pop', 'deceduti_per_1M_pop']\n",
    "    ).properties(\n",
    "        height=600,\n",
    "        width=800\n",
    "    ).transform_filter(\n",
    "        (datum.totale_casi > 1000)\n",
    "    ).interactive()\n",
    "    \n",
    "@interact(campo=['totale_casi', 'deceduti'], logarithm=True, per1Mpop=False)\n",
    "def plot_province(campo, logarithm, per1Mpop):    \n",
    "    y = campo\n",
    "    if per1Mpop:\n",
    "        y += '_per_1M_pop'\n",
    "    if logarithm:\n",
    "        return c.encode(y = alt.Y(f'{y}:Q', scale=alt.Scale(type='log')))\n",
    "    else:\n",
    "        return c.encode(y = alt.Y(f'{y}:Q'))"
   ]
  },
  {
   "cell_type": "code",
   "execution_count": 3,
   "metadata": {},
   "outputs": [
    {
     "data": {
      "application/vnd.jupyter.widget-view+json": {
       "model_id": "aca31c5725134ea1b19fec0859e20888",
       "version_major": 2,
       "version_minor": 0
      },
      "text/plain": [
       "interactive(children=(Dropdown(description='campo', options=('totale_casi', 'deceduti', 'tamponi'), value='tot…"
      ]
     },
     "metadata": {},
     "output_type": "display_data"
    }
   ],
   "source": [
    "@interact(campo=['totale_casi', 'deceduti', 'tamponi'], normalize=True)\n",
    "def plot(campo, normalize):\n",
    "    stack = \"normalize\" if normalize else \"zero\"\n",
    "    \n",
    "    return alt.Chart(regioni_df).mark_area().encode(\n",
    "        alt.Y(campo, stack=stack),#, scale=alt.Scale(type='log')),\n",
    "        x='data:T',\n",
    "        color=alt.Color('regione', scale=alt.Scale(scheme='category20')),\n",
    "        tooltip=['regione', 'data', 'totale_casi', 'deceduti', 'tamponi']\n",
    "    ).properties(\n",
    "        height=600,\n",
    "        width=800\n",
    "    ).transform_filter(\n",
    "        (datum.totale_casi > 0)\n",
    "    ).interactive()"
   ]
  },
  {
   "cell_type": "code",
   "execution_count": 5,
   "metadata": {},
   "outputs": [
    {
     "data": {
      "application/vnd.jupyter.widget-view+json": {
       "model_id": "beeacfc350ad4f9db72e840c39f0f261",
       "version_major": 2,
       "version_minor": 0
      },
      "text/plain": [
       "interactive(children=(Dropdown(description='campo', index=5, options=('percentuale_positivi', 'percentuale_nuo…"
      ]
     },
     "metadata": {},
     "output_type": "display_data"
    }
   ],
   "source": [
    "@interact(campo=['percentuale_positivi', 'percentuale_nuovi_positivi', 'incremento', 'nuovi_tamponi', 'nuovi_positivi', 'nuovi_deceduti', 'tamponi', 'terapia_intensiva', 'totale_positivi', 'letalita', 'totale_casi_per_1M_pop', 'deceduti_per_1M_pop'], giorni_indietro=(-10,0))\n",
    "def plot(campo='nuovi_deceduti', giorni_indietro=0):\n",
    "    df = regioni_df.groupby('regione').nth(giorni_indietro-1).reset_index()\n",
    "    c = alt.Chart(df).mark_bar().encode(\n",
    "        x=campo,\n",
    "        y=alt.Y('regione:N', sort='-x'),\n",
    "    ).properties(\n",
    "        height=600,\n",
    "        width=800\n",
    "    ).transform_filter(\n",
    "            (datum.percentuale_positivi > 0)\n",
    "    ).properties(title=str(df.data.iloc[0])).interactive()\n",
    "    return c"
   ]
  },
  {
   "cell_type": "code",
   "execution_count": null,
   "metadata": {},
   "outputs": [],
   "source": []
  }
 ],
 "metadata": {
  "kernelspec": {
   "display_name": "Python 3",
   "language": "python",
   "name": "python3"
  },
  "language_info": {
   "codemirror_mode": {
    "name": "ipython",
    "version": 3
   },
   "file_extension": ".py",
   "mimetype": "text/x-python",
   "name": "python",
   "nbconvert_exporter": "python",
   "pygments_lexer": "ipython3",
   "version": "3.8.2"
  }
 },
 "nbformat": 4,
 "nbformat_minor": 4
}
