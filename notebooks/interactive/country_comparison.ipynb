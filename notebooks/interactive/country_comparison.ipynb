{
 "cells": [
  {
   "cell_type": "markdown",
   "metadata": {},
   "source": [
    "## Country comparison"
   ]
  },
  {
   "cell_type": "code",
   "execution_count": 1,
   "metadata": {},
   "outputs": [],
   "source": [
    "import altair as alt\n",
    "from altair import datum\n",
    "import ipywidgets as widgets\n",
    "from ipywidgets import interact, interact_manual\n",
    "from IPython.display import HTML, Markdown as md\n",
    "\n",
    "from src.data.read_dataset import get_processed_dataset\n",
    "from src.visualization import visualize as viz\n",
    "\n",
    "ecdc = get_processed_dataset('ECDC')"
   ]
  },
  {
   "cell_type": "code",
   "execution_count": 2,
   "metadata": {},
   "outputs": [],
   "source": [
    "today = ecdc.groupby('Country').first()\n",
    "today = today[(today.popData2019 > 1e6) & (today.TotalCases > 1000)]"
   ]
  },
  {
   "cell_type": "code",
   "execution_count": 3,
   "metadata": {},
   "outputs": [
    {
     "data": {
      "application/vnd.jupyter.widget-view+json": {
       "model_id": "63392dc0d95142c186df9d90f42347e1",
       "version_major": 2,
       "version_minor": 0
      },
      "text/plain": [
       "interactive(children=(Dropdown(description='campo', options=('TotalCasesPer1MPop', 'TotalDeathsPer1MPop', 'Cas…"
      ]
     },
     "metadata": {},
     "output_type": "display_data"
    }
   ],
   "source": [
    "fields = ['TotalCasesPer1MPop', 'TotalDeathsPer1MPop', 'CasesPer1MPop', 'DeathsPer1MPop', 'TotalCases', 'TotalDeaths', 'Lethality', 'cases', 'deaths']\n",
    "\n",
    "@interact(campo=fields, giorni_indietro=(-30,0))\n",
    "def plot(campo, giorni_indietro=0):\n",
    "    day = ecdc.groupby('Country').nth(-giorni_indietro).reset_index()\n",
    "    day = day[(day.popData2019 > 1e6) & (day.TotalCases > 1000)]\n",
    "    c = alt.Chart(day).mark_bar().encode(\n",
    "        x=campo,\n",
    "        y=alt.Y('Country:N', sort='-x'),\n",
    "        #tooltip=['dateRep', 'Country', 'popData2019'] + fields\n",
    "    ).transform_window(\n",
    "        rank=f'rank({campo})',\n",
    "        sort=[alt.SortField(campo, order='descending')]\n",
    "    ).transform_filter(\n",
    "        (alt.datum.rank < 21)\n",
    "    ).properties(\n",
    "        height=600,\n",
    "        width=800\n",
    "    )#.properties(title=day.dateRep.iloc[0]).interactive()\n",
    "    return c"
   ]
  },
  {
   "cell_type": "code",
   "execution_count": null,
   "metadata": {},
   "outputs": [],
   "source": []
  }
 ],
 "metadata": {
  "kernelspec": {
   "display_name": "Python 3",
   "language": "python",
   "name": "python3"
  },
  "language_info": {
   "codemirror_mode": {
    "name": "ipython",
    "version": 3
   },
   "file_extension": ".py",
   "mimetype": "text/x-python",
   "name": "python",
   "nbconvert_exporter": "python",
   "pygments_lexer": "ipython3",
   "version": "3.8.2"
  }
 },
 "nbformat": 4,
 "nbformat_minor": 4
}
